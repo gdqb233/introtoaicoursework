{
 "cells": [
  {
   "cell_type": "code",
   "execution_count": 1,
   "metadata": {},
   "outputs": [],
   "source": [
    "import sklearn \n",
    "\n",
    "from sklearn import datasets                \n",
    "from sklearn.model_selection import train_test_split\n",
    "from sklearn.model_selection import KFold               \n",
    "from sklearn.metrics import accuracy_score                 \n",
    "from sklearn.metrics import confusion_matrix               \n",
    "\n",
    "import pandas as pd\n",
    "import numpy as np\n",
    "import matplotlib.pyplot as plt\n",
    "\n",
    "#read file\n",
    "datasetpath = 'pulmonary_adenocarcinoma_dataset.csv'\n",
    "dataset = pd.read_csv(datasetpath)\n",
    "\n",
    "X = np.vstack((dataset['lobular_speciticular'], dataset['air_bronchus_sign'], dataset['vessel_passthrough'], dataset['long_diameter'], dataset['avarage_CT_value'])).T\n",
    "\n",
    "y = np.array(dataset['pathology'])\n",
    "\n",
    "\n",
    "def simplepredict(model):\n",
    "    X_train, X_test, y_train, y_test = train_test_split(X, y, test_size=0.2)   #, random_state=46\n",
    "    y_pred = model.predict(X_train)\n",
    "    print(accuracy(y_pred,y_test))\n",
    "\n",
    "\n",
    "\n",
    "def Kfoldpredict(model):\n",
    "    kf = KFold(5,shuffle=True)\n",
    "    fold = 1\n",
    "    overallaccuracy = 0\n",
    "\n",
    "    for train_index, validate_index in kf.split(X,y):\n",
    "        model.fit(X[train_index],y[train_index])\n",
    "        y_test = y[validate_index]\n",
    "        y_pred = model.predict(X[validate_index])\n",
    "        #print(y_test)\n",
    "        #print(y_pred)\n",
    "        #print(f\"Fold #{fold}, Training Size: {len(trainDF)}, Validation Size: {len(validateDF)}\")\n",
    "        print(f\"Fold #{fold}, Training Size: {len(X[train_index])}, Validation Size: {len(X[validate_index])}\")\n",
    "        print('Accuracy: %.2f' % accuracy_score(y_test, y_pred))\n",
    "        fold += 1\n",
    "        overallaccuracy = overallaccuracy  + accuracy_score(y_test, y_pred)\n",
    "    print(overallaccuracy/5)"
   ]
  },
  {
   "cell_type": "code",
   "execution_count": null,
   "metadata": {},
   "outputs": [],
   "source": [
    "\n",
    "\n",
    "from sklearn.linear_model import LogisticRegression, LinearRegression\n",
    "\n",
    "logisticregressionmodel = LogisticRegression()\n",
    "Kfoldpredict(logisticregressionmodel)\n",
    "\n",
    "'''\n",
    "logisticregressionmodel.fit(X_train, y_train)\n",
    "y_pred = logisticregressionmodel.predict(X_test)\n",
    "accuracy_score(y_test, y_pred)\n",
    "'''"
   ]
  },
  {
   "cell_type": "code",
   "execution_count": null,
   "metadata": {},
   "outputs": [],
   "source": [
    "\n",
    "\n",
    "from sklearn.svm import SVC  \n",
    "\n",
    "svcmodel = SVC(kernel='linear', C=1E10)\n",
    "svcmodel.fit(X_train, y_train)\n",
    "y_pred = svcmodel.predict(X_train)\n",
    "Kfoldpredict(svcmodel)"
   ]
  },
  {
   "cell_type": "code",
   "execution_count": null,
   "metadata": {},
   "outputs": [],
   "source": [
    "\n",
    "\n",
    "from sklearn.tree import DecisionTreeClassifier\n",
    "\n",
    "decisiontreemodel = DecisionTreeClassifier(criterion = 'entropy')\n",
    "decisiontreemodel.fit(X_train,y_train)\n",
    "y_pred = decisiontreemodel.predict(X_test)\n",
    "\n",
    "Kfoldpredict(decisiontreemodel)"
   ]
  },
  {
   "cell_type": "code",
   "execution_count": null,
   "metadata": {},
   "outputs": [],
   "source": [
    "\n",
    "\n",
    "from sklearn.ensemble import RandomForestClassifier\n",
    "\n",
    "randomforestmodel = RandomForestClassifier(n_estimators=10,criterion=\"entropy\")\n",
    "randomforestmodel.fit(X_train, y_train)\n",
    "y_pred = randomforestmodel.predict(X_test)\n",
    "\n",
    "Kfoldpredict(randomforestmodel)"
   ]
  },
  {
   "cell_type": "code",
   "execution_count": null,
   "metadata": {},
   "outputs": [],
   "source": [
    "\n",
    "\n",
    "from sklearn.neighbors import KNeighborsClassifier\n",
    "\n",
    "knnmodel = KNeighborsClassifier()\n",
    "knnmodel.fit(X_train, y_train)\n",
    "y_pred = knnmodel.predict(X_test)\n",
    "\n",
    "Kfoldpredict(knnmodel)"
   ]
  },
  {
   "cell_type": "code",
   "execution_count": null,
   "metadata": {},
   "outputs": [],
   "source": [
    "\n",
    "\n",
    "from sklearn.naive_bayes import GaussianNB\n",
    "\n",
    "bayesianmodel = GaussianNB()\n",
    "bayesianmodel.fit(X, y)\n",
    "y_pred = bayesianmodel.predict(X_test)\n",
    "\n",
    "Kfoldpredict(bayesianmodel)"
   ]
  },
  {
   "cell_type": "code",
   "execution_count": null,
   "metadata": {},
   "outputs": [],
   "source": [
    "import tensorflow as tf\n",
    "from tensorflow import keras\n",
    "from tensorflow.keras.models import Sequential\n",
    "from tensorflow.keras.layers import Dense#, Activation\n",
    "\n",
    "import numpy as np\n",
    "\n",
    "def onehot(X):                                 #Onehot\n",
    "    T = np.zeros((X.size, 4))\n",
    "    for idx, row in enumerate(T):\n",
    "        row[X[idx]-1] = 1\n",
    "    return T\n",
    "\n",
    "y = onehot(y)\n",
    "\n",
    "model = Sequential()\n",
    "model.add(Dense(64, input_dim=X.shape[1], activation='relu'))\n",
    "model.add(Dense(y.shape[1],activation='softmax'))\n",
    "model.compile(loss='categorical_crossentropy', optimizer='adam')\n",
    "\n",
    "kf = KFold(5)\n",
    "\n",
    "overallaccuracy = 0\n",
    "\n",
    "for train, test in kf.split(X):\n",
    "    X_train = X[train]\n",
    "    y_train = y[train]\n",
    "    X_test = X[test]\n",
    "    y_test = y[test]\n",
    "\n",
    "    model.fit(X_train,y_train,verbose=2,epochs=1000)\n",
    "    pred = model.predict(X_test)\n",
    "    pred = np.argmax(pred,axis=1)\n",
    "    y_compare = np.argmax(y_test,axis=1) \n",
    "    score = metrics.accuracy_score(y_compare, pred)\n",
    "    overallaccuracy = overallaccuracy + score\n",
    "    print(\"Accuracy score: {}\".format(score))\n",
    "print ('overall accuracy:', overallaccuracy/5)\n"
   ]
  },
  {
   "cell_type": "code",
   "execution_count": null,
   "metadata": {},
   "outputs": [],
   "source": []
  },
  {
   "cell_type": "code",
   "execution_count": null,
   "metadata": {},
   "outputs": [],
   "source": []
  }
 ],
 "metadata": {
  "kernelspec": {
   "display_name": "Python 3 (ipykernel)",
   "language": "python",
   "name": "python3"
  },
  "language_info": {
   "codemirror_mode": {
    "name": "ipython",
    "version": 3
   },
   "file_extension": ".py",
   "mimetype": "text/x-python",
   "name": "python",
   "nbconvert_exporter": "python",
   "pygments_lexer": "ipython3",
   "version": "3.8.15"
  }
 },
 "nbformat": 4,
 "nbformat_minor": 4
}
